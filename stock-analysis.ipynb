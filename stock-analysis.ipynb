{
 "cells": [
  {
   "cell_type": "code",
   "execution_count": 70,
   "metadata": {
    "collapsed": false
   },
   "outputs": [
    {
     "name": "stdout",
     "output_type": "stream",
     "text": [
      "['0005_trade_20161001-20170112.csv', '0494_trade_20161001-20170112.csv', '0700_trade_20161001-20170112.csv', '0939_trade_20161001-20170112.csv', '0941_trade_20161001-20170112.csv', '1299_trade_20161001-20170112.csv', '2318_trade_20161001-20170112.csv', '2333_trade_20161001-20170112.csv', '2628_trade_20161001-20170112.csv']\n"
     ]
    }
   ],
   "source": [
    "import os\n",
    "import pandas as pd\n",
    "from datetime import datetime\n",
    "org_path = os.getcwd()\n",
    "data_path = org_path + '/stock-data'\n",
    "data_csv = [csv for csv in os.listdir(data_path) if csv.endswith('.csv')]\n",
    "print (data_csv)"
   ]
  },
  {
   "cell_type": "code",
   "execution_count": 98,
   "metadata": {
    "collapsed": false
   },
   "outputs": [
    {
     "name": "stdout",
     "output_type": "stream",
     "text": [
      "         Date      Time  Symbol  Price  Quantity\n",
      "0  2016-10-03  09:20:00       5  58.15      2400\n",
      "1  2016-10-03  09:20:00       5  58.15      5200\n",
      "2  2016-10-03  09:20:00       5  58.15      1200\n",
      "3  2016-10-03  09:20:00       5  58.15       400\n",
      "4  2016-10-03  09:20:00       5  58.15       800\n",
      "(549785, 5)\n"
     ]
    }
   ],
   "source": [
    "dt_0005 = pd.read_csv('%s/0005_trade_20161001-20170112.csv' % (data_path))\n",
    "dt_0005['Date'] = pd.to_datetime(dt_0005['UpdatedTime'], format=\"%Y-%m-%d\").dt.date\n",
    "dt_0005['Time'] = pd.to_datetime(dt_0005['UpdatedTime'],format= '%Y-%m-%d %H:%M:%S.%f').dt.time\n",
    "cols = dt_0005.columns.tolist()\n",
    "cols = cols[-2:] + cols[:-2]\n",
    "dt_0005 = dt_0005[cols]\n",
    "del dt_0005['UpdatedTime']\n",
    "del dt_0005['Side']\n",
    "print (dt_0005.head())\n",
    "print (dt_0005.shape)"
   ]
  },
  {
   "cell_type": "code",
   "execution_count": 99,
   "metadata": {
    "collapsed": false
   },
   "outputs": [],
   "source": [
    "opening = datetime.strptime('09:30:00', '%H:%M:%S').time()\n",
    "dt_0005 = dt_0005.loc[dt_0005['Time'] >= opening]\n",
    "closing = datetime.strptime('16:00:00', '%H:%M:%S').time()\n",
    "dt_0005 = dt_0005.loc[dt_0005['Time'] <= closing]"
   ]
  },
  {
   "cell_type": "code",
   "execution_count": 100,
   "metadata": {
    "collapsed": false
   },
   "outputs": [
    {
     "name": "stdout",
     "output_type": "stream",
     "text": [
      "           Date      Time  Symbol  Price  Quantity\n",
      "133  2016-10-03  09:30:00       5  58.15     56400\n",
      "134  2016-10-03  09:30:00       5  58.10       800\n",
      "135  2016-10-03  09:30:00       5  58.10      1200\n",
      "136  2016-10-03  09:30:00       5  58.10       400\n",
      "137  2016-10-03  09:30:00       5  58.15     20000\n",
      "(533612, 5)\n"
     ]
    }
   ],
   "source": [
    "print (dt_0005.head())\n",
    "print (dt_0005.shape)"
   ]
  }
 ],
 "metadata": {
  "anaconda-cloud": {},
  "kernelspec": {
   "display_name": "Python [conda env:python3]",
   "language": "python",
   "name": "conda-env-python3-py"
  },
  "language_info": {
   "codemirror_mode": {
    "name": "ipython",
    "version": 3
   },
   "file_extension": ".py",
   "mimetype": "text/x-python",
   "name": "python",
   "nbconvert_exporter": "python",
   "pygments_lexer": "ipython3",
   "version": "3.5.2"
  }
 },
 "nbformat": 4,
 "nbformat_minor": 1
}
